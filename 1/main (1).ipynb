{
 "cells": [
  {
   "cell_type": "code",
   "execution_count": 1,
   "metadata": {},
   "outputs": [],
   "source": [
    "import numpy as np\n",
    "import matplotlib.pyplot as plt\n",
    "from tensorflow.keras.utils import to_categorical"
   ]
  },
  {
   "cell_type": "code",
   "execution_count": 2,
   "metadata": {},
   "outputs": [],
   "source": [
    "X_all = np.genfromtxt(\"X_train.csv\", delimiter=\",\", skip_header=1)\n",
    "Y_all = np.genfromtxt(\"y_train.csv\", delimiter=\",\", skip_header=1)\n",
    "X_all = X_all / 255.0\n",
    "Y_all = to_categorical(Y_all)\n",
    "s = int(0.8 * X_all.shape[0])\n",
    "X_train, X_test = X_all[:s], X_all[s:]\n",
    "Y_train, Y_test = Y_all[:s], Y_all[s:]"
   ]
  },
  {
   "cell_type": "code",
   "execution_count": 3,
   "metadata": {},
   "outputs": [
    {
     "data": {
      "text/plain": [
       "((1600, 6336), (1600, 40), (400, 6336), (400, 40))"
      ]
     },
     "execution_count": 3,
     "metadata": {},
     "output_type": "execute_result"
    }
   ],
   "source": [
    "X_train.shape, Y_train.shape, X_test.shape, Y_test.shape"
   ]
  },
  {
   "cell_type": "code",
   "execution_count": 4,
   "metadata": {},
   "outputs": [
    {
     "data": {
      "text/plain": [
       "<matplotlib.image.AxesImage at 0x26730693b80>"
      ]
     },
     "execution_count": 4,
     "metadata": {},
     "output_type": "execute_result"
    },
    {
     "data": {
      "image/png": "[encoded data removed]",
      "text/plain": [
       "<Figure size 640x480 with 1 Axes>"
      ]
     },
     "metadata": {},
     "output_type": "display_data"
    }
   ],
   "source": [
    "plt.imshow(np.reshape(X_train[4], (44, 48, 3)))"
   ]
  },
  {
   "cell_type": "code",
   "execution_count": 5,
   "metadata": {},
   "outputs": [],
   "source": [
    "from tensorflow.keras.layers import Input, Reshape, Conv2D, Flatten, Dense, BatchNormalization, Dropout\n",
    "from tensorflow.keras.models import Model\n",
    "from tensorflow.keras.optimizers import Adam\n",
    "from tensorflow.keras.callbacks import EarlyStopping"
   ]
  },
  {
   "cell_type": "code",
   "execution_count": 6,
   "metadata": {},
   "outputs": [],
   "source": [
    "drop_rate = 0.5\n",
    "\n",
    "input = Input(shape=(6336,))\n",
    "x = Reshape(target_shape=(44, 48, 3))(input)\n",
    "\n",
    "x = Conv2D(32, kernel_size=3, activation=\"relu\", kernel_initializer=\"he_normal\")(x)\n",
    "x = BatchNormalization()(x)\n",
    "\n",
    "x = Conv2D(32, kernel_size=3, activation=\"relu\", kernel_initializer=\"he_normal\")(x)\n",
    "x = BatchNormalization()(x)\n",
    "\n",
    "x = Conv2D(32, kernel_size=5, activation=\"relu\", kernel_initializer=\"he_normal\", strides=2, padding=\"same\")(x)\n",
    "x = BatchNormalization()(x)\n",
    "\n",
    "x = Dropout(drop_rate)(x)\n",
    "\n",
    "x = Conv2D(64, kernel_size=3, activation=\"relu\", kernel_initializer=\"he_normal\")(x)\n",
    "x = BatchNormalization()(x)\n",
    "\n",
    "x = Conv2D(64, kernel_size=3, activation=\"relu\", kernel_initializer=\"he_normal\")(x)\n",
    "x = BatchNormalization()(x)\n",
    "\n",
    "x = Conv2D(64, kernel_size=5, activation=\"relu\", kernel_initializer=\"he_normal\", strides=2, padding=\"same\")(x)\n",
    "x = BatchNormalization()(x)\n",
    "\n",
    "x = Dropout(drop_rate)(x)\n",
    "\n",
    "x = Conv2D(128, kernel_size=4, activation=\"relu\", kernel_initializer=\"he_normal\")(x)\n",
    "x = BatchNormalization()(x)\n",
    "\n",
    "x = Dropout(drop_rate)(x)\n",
    "\n",
    "x = Flatten()(x)\n",
    "x = Dense(1000, activation=\"relu\")(x)\n",
    "x = Dropout(drop_rate)(x)\n",
    "y = Dense(Y_train.shape[1], activation=\"softmax\")(x)\n",
    "\n",
    "model = Model(input, y)"
   ]
  },
  {
   "cell_type": "code",
   "execution_count": 7,
   "metadata": {},
   "outputs": [
    {
     "name": "stdout",
     "output_type": "stream",
     "text": [
      "Model: \"model\"\n",
      "_________________________________________________________________\n",
      " Layer (type)                Output Shape              Param #   \n",
      "=================================================================\n",
      " input_1 (InputLayer)        [(None, 6336)]            0         \n",
      "                                                                 \n",
      " reshape (Reshape)           (None, 44, 48, 3)         0         \n",
      "                                                                 \n",
      " conv2d (Conv2D)             (None, 42, 46, 32)        896       \n",
      "                                                                 \n",
      " batch_normalization (BatchN  (None, 42, 46, 32)       128       \n",
      " ormalization)                                                   \n",
      "                                                                 \n",
      " conv2d_1 (Conv2D)           (None, 40, 44, 32)        9248      \n",
      "                                                                 \n",
      " batch_normalization_1 (Batc  (None, 40, 44, 32)       128       \n",
      " hNormalization)                                                 \n",
      "                                                                 \n",
      " conv2d_2 (Conv2D)           (None, 20, 22, 32)        25632     \n",
      "                                                                 \n",
      " batch_normalization_2 (Batc  (None, 20, 22, 32)       128       \n",
      " hNormalization)                                                 \n",
      "                                                                 \n",
      " dropout (Dropout)           (None, 20, 22, 32)        0         \n",
      "                                                                 \n",
      " conv2d_3 (Conv2D)           (None, 18, 20, 64)        18496     \n",
      "                                                                 \n",
      " batch_normalization_3 (Batc  (None, 18, 20, 64)       256       \n",
      " hNormalization)                                                 \n",
      "                                                                 \n",
      " conv2d_4 (Conv2D)           (None, 16, 18, 64)        36928     \n",
      "                                                                 \n",
      " batch_normalization_4 (Batc  (None, 16, 18, 64)       256       \n",
      " hNormalization)                                                 \n",
      "                                                                 \n",
      " conv2d_5 (Conv2D)           (None, 8, 9, 64)          102464    \n",
      "                                                                 \n",
      " batch_normalization_5 (Batc  (None, 8, 9, 64)         256       \n",
      " hNormalization)                                                 \n",
      "                                                                 \n",
      " dropout_1 (Dropout)         (None, 8, 9, 64)          0         \n",
      "                                                                 \n",
      " conv2d_6 (Conv2D)           (None, 5, 6, 128)         131200    \n",
      "                                                                 \n",
      " batch_normalization_6 (Batc  (None, 5, 6, 128)        512       \n",
      " hNormalization)                                                 \n",
      "                                                                 \n",
      " dropout_2 (Dropout)         (None, 5, 6, 128)         0         \n",
      "                                                                 \n",
      " flatten (Flatten)           (None, 3840)              0         \n",
      "                                                                 \n",
      " dense (Dense)               (None, 1000)              3841000   \n",
      "                                                                 \n",
      " dropout_3 (Dropout)         (None, 1000)              0         \n",
      "                                                                 \n",
      " dense_1 (Dense)             (None, 40)                40040     \n",
      "                                                                 \n",
      "=================================================================\n",
      "Total params: 4,207,568\n",
      "Trainable params: 4,206,736\n",
      "Non-trainable params: 832\n",
      "_________________________________________________________________\n"
     ]
    }
   ],
   "source": [
    "model.summary()"
   ]
  },
  {
   "cell_type": "code",
   "execution_count": 8,
   "metadata": {},
   "outputs": [
    {
     "name": "stdout",
     "output_type": "stream",
     "text": [
      "Epoch 1/50\n",
      "50/50 [==============================] - 20s 295ms/step - loss: 4.5476 - acc: 0.1725 - val_loss: 3.9834 - val_acc: 0.0575\n",
      "Epoch 2/50\n",
      "50/50 [==============================] - 15s 297ms/step - loss: 2.4748 - acc: 0.4425 - val_loss: 2.0077 - val_acc: 0.4600\n",
      "Epoch 3/50\n",
      "50/50 [==============================] - 15s 296ms/step - loss: 1.4815 - acc: 0.6444 - val_loss: 1.1121 - val_acc: 0.6475\n",
      "Epoch 4/50\n",
      "50/50 [==============================] - 15s 302ms/step - loss: 0.8872 - acc: 0.7694 - val_loss: 1.1391 - val_acc: 0.7425\n",
      "Epoch 5/50\n",
      "50/50 [==============================] - 15s 292ms/step - loss: 0.5987 - acc: 0.8319 - val_loss: 0.7845 - val_acc: 0.8025\n",
      "Epoch 6/50\n",
      "50/50 [==============================] - 13s 262ms/step - loss: 0.4671 - acc: 0.8631 - val_loss: 0.8508 - val_acc: 0.8025\n",
      "Epoch 7/50\n",
      "50/50 [==============================] - 15s 290ms/step - loss: 0.4340 - acc: 0.8731 - val_loss: 0.6174 - val_acc: 0.8700\n",
      "Epoch 8/50\n",
      "50/50 [==============================] - 13s 269ms/step - loss: 0.3469 - acc: 0.9013 - val_loss: 0.5646 - val_acc: 0.8950\n",
      "Epoch 9/50\n",
      "50/50 [==============================] - 14s 280ms/step - loss: 0.2686 - acc: 0.9269 - val_loss: 0.3998 - val_acc: 0.9200\n",
      "Epoch 10/50\n",
      "50/50 [==============================] - 13s 260ms/step - loss: 0.2314 - acc: 0.9362 - val_loss: 0.4749 - val_acc: 0.9300\n",
      "Epoch 11/50\n",
      "50/50 [==============================] - 13s 270ms/step - loss: 0.1729 - acc: 0.9481 - val_loss: 0.3895 - val_acc: 0.9400\n",
      "Epoch 12/50\n",
      "50/50 [==============================] - 13s 262ms/step - loss: 0.1706 - acc: 0.9488 - val_loss: 0.4180 - val_acc: 0.9400\n",
      "Epoch 13/50\n",
      "50/50 [==============================] - 14s 282ms/step - loss: 0.1537 - acc: 0.9506 - val_loss: 0.3617 - val_acc: 0.9600\n",
      "Epoch 14/50\n",
      "50/50 [==============================] - 15s 306ms/step - loss: 0.1386 - acc: 0.9563 - val_loss: 0.3843 - val_acc: 0.9525\n",
      "Epoch 15/50\n",
      "50/50 [==============================] - 18s 361ms/step - loss: 0.1460 - acc: 0.9581 - val_loss: 0.5165 - val_acc: 0.9300\n",
      "Epoch 16/50\n",
      "50/50 [==============================] - 17s 349ms/step - loss: 0.1352 - acc: 0.9563 - val_loss: 0.5077 - val_acc: 0.9475\n",
      "Epoch 17/50\n",
      "50/50 [==============================] - 18s 352ms/step - loss: 0.1419 - acc: 0.9606 - val_loss: 0.6178 - val_acc: 0.9350\n",
      "Epoch 18/50\n",
      "50/50 [==============================] - 19s 372ms/step - loss: 0.1467 - acc: 0.9650 - val_loss: 0.6147 - val_acc: 0.9275\n",
      "Epoch 19/50\n",
      "50/50 [==============================] - 20s 401ms/step - loss: 0.1485 - acc: 0.9575 - val_loss: 0.5167 - val_acc: 0.9350\n",
      "Epoch 20/50\n",
      "50/50 [==============================] - 14s 285ms/step - loss: 0.1177 - acc: 0.9719 - val_loss: 0.4914 - val_acc: 0.9550\n",
      "Epoch 21/50\n",
      "50/50 [==============================] - 12s 245ms/step - loss: 0.1363 - acc: 0.9625 - val_loss: 0.4726 - val_acc: 0.9600\n",
      "Epoch 22/50\n",
      "50/50 [==============================] - 16s 318ms/step - loss: 0.1410 - acc: 0.9638 - val_loss: 0.4670 - val_acc: 0.9625\n",
      "Epoch 23/50\n",
      "50/50 [==============================] - 18s 355ms/step - loss: 0.1277 - acc: 0.9625 - val_loss: 0.6010 - val_acc: 0.9400\n",
      "Epoch 24/50\n",
      "50/50 [==============================] - 17s 337ms/step - loss: 0.1646 - acc: 0.9650 - val_loss: 0.6079 - val_acc: 0.9525\n",
      "Epoch 25/50\n",
      "50/50 [==============================] - 17s 338ms/step - loss: 0.1211 - acc: 0.9700 - val_loss: 0.6382 - val_acc: 0.9575\n",
      "Epoch 26/50\n",
      "50/50 [==============================] - 18s 365ms/step - loss: 0.0895 - acc: 0.9712 - val_loss: 0.7511 - val_acc: 0.9500\n",
      "Epoch 27/50\n",
      "50/50 [==============================] - 17s 333ms/step - loss: 0.1335 - acc: 0.9663 - val_loss: 0.6243 - val_acc: 0.9425\n",
      "Epoch 28/50\n",
      "50/50 [==============================] - 16s 327ms/step - loss: 0.1263 - acc: 0.9787 - val_loss: 0.6514 - val_acc: 0.9400\n",
      "Epoch 29/50\n",
      "50/50 [==============================] - 17s 332ms/step - loss: 0.1311 - acc: 0.9688 - val_loss: 0.6611 - val_acc: 0.9350\n",
      "Epoch 30/50\n",
      "50/50 [==============================] - 18s 355ms/step - loss: 0.1344 - acc: 0.9700 - val_loss: 0.7467 - val_acc: 0.9475\n",
      "Epoch 31/50\n",
      "50/50 [==============================] - 19s 380ms/step - loss: 0.0691 - acc: 0.9806 - val_loss: 0.7700 - val_acc: 0.9175\n",
      "Epoch 32/50\n",
      "50/50 [==============================] - 18s 360ms/step - loss: 0.1241 - acc: 0.9663 - val_loss: 0.6280 - val_acc: 0.9625\n",
      "Epoch 33/50\n",
      "50/50 [==============================] - 18s 357ms/step - loss: 0.1018 - acc: 0.9794 - val_loss: 0.6721 - val_acc: 0.9650\n",
      "Epoch 34/50\n",
      "50/50 [==============================] - 17s 336ms/step - loss: 0.0905 - acc: 0.9781 - val_loss: 0.7106 - val_acc: 0.9425\n",
      "Epoch 35/50\n",
      "50/50 [==============================] - 17s 332ms/step - loss: 0.0707 - acc: 0.9806 - val_loss: 0.5405 - val_acc: 0.9500\n",
      "Epoch 36/50\n",
      "50/50 [==============================] - 18s 354ms/step - loss: 0.0860 - acc: 0.9769 - val_loss: 0.6755 - val_acc: 0.9675\n",
      "Epoch 37/50\n",
      "50/50 [==============================] - 16s 325ms/step - loss: 0.1499 - acc: 0.9675 - val_loss: 0.6510 - val_acc: 0.9575\n",
      "Epoch 38/50\n",
      "50/50 [==============================] - 15s 294ms/step - loss: 0.1315 - acc: 0.9737 - val_loss: 0.6917 - val_acc: 0.9400\n",
      "Epoch 39/50\n",
      "50/50 [==============================] - 18s 362ms/step - loss: 0.1153 - acc: 0.9719 - val_loss: 0.6697 - val_acc: 0.9475\n",
      "Epoch 40/50\n",
      "50/50 [==============================] - 16s 327ms/step - loss: 0.1973 - acc: 0.9650 - val_loss: 0.5488 - val_acc: 0.9575\n",
      "Epoch 41/50\n",
      "50/50 [==============================] - 14s 280ms/step - loss: 0.1082 - acc: 0.9756 - val_loss: 0.9096 - val_acc: 0.9200\n",
      "Epoch 42/50\n",
      "50/50 [==============================] - 15s 297ms/step - loss: 0.1477 - acc: 0.9731 - val_loss: 0.5819 - val_acc: 0.9550\n",
      "Epoch 43/50\n",
      "50/50 [==============================] - 14s 276ms/step - loss: 0.0882 - acc: 0.9819 - val_loss: 0.7485 - val_acc: 0.9425\n",
      "Epoch 44/50\n",
      "50/50 [==============================] - 13s 268ms/step - loss: 0.0907 - acc: 0.9800 - val_loss: 0.5598 - val_acc: 0.9575\n",
      "Epoch 45/50\n",
      "50/50 [==============================] - 13s 267ms/step - loss: 0.1215 - acc: 0.9781 - val_loss: 0.7733 - val_acc: 0.9500\n",
      "Epoch 46/50\n",
      "50/50 [==============================] - 14s 282ms/step - loss: 0.1883 - acc: 0.9694 - val_loss: 2.3171 - val_acc: 0.9150\n",
      "Epoch 47/50\n",
      "50/50 [==============================] - 14s 283ms/step - loss: 0.1104 - acc: 0.9750 - val_loss: 0.9726 - val_acc: 0.9625\n",
      "Epoch 48/50\n",
      "50/50 [==============================] - 14s 285ms/step - loss: 0.0789 - acc: 0.9806 - val_loss: 1.0376 - val_acc: 0.9425\n",
      "Epoch 49/50\n",
      "50/50 [==============================] - 14s 276ms/step - loss: 0.0855 - acc: 0.9794 - val_loss: 0.6207 - val_acc: 0.9550\n",
      "Epoch 50/50\n",
      "50/50 [==============================] - 13s 265ms/step - loss: 0.1362 - acc: 0.9744 - val_loss: 1.0107 - val_acc: 0.9525\n",
      "13/13 [==============================] - 1s 46ms/step - loss: 1.0107 - acc: 0.9525\n",
      "Val acc: 0.9525\n",
      "Epoch 1/50\n",
      "100/100 [==============================] - 22s 176ms/step - loss: 0.0376 - acc: 0.9912 - val_loss: 0.7700 - val_acc: 0.9550\n",
      "Epoch 2/50\n",
      "100/100 [==============================] - 17s 167ms/step - loss: 0.0368 - acc: 0.9906 - val_loss: 0.6268 - val_acc: 0.9650\n",
      "Epoch 3/50\n",
      "100/100 [==============================] - 17s 169ms/step - loss: 0.0097 - acc: 0.9956 - val_loss: 0.6034 - val_acc: 0.9675\n",
      "Epoch 4/50\n",
      "100/100 [==============================] - 17s 168ms/step - loss: 0.0122 - acc: 0.9944 - val_loss: 0.5935 - val_acc: 0.9675\n",
      "Epoch 5/50\n",
      "100/100 [==============================] - 17s 172ms/step - loss: 0.0182 - acc: 0.9962 - val_loss: 0.6057 - val_acc: 0.9700\n",
      "Epoch 6/50\n",
      "100/100 [==============================] - 16s 164ms/step - loss: 0.0176 - acc: 0.9950 - val_loss: 0.5885 - val_acc: 0.9700\n",
      "Epoch 7/50\n",
      "100/100 [==============================] - 16s 164ms/step - loss: 0.0104 - acc: 0.9950 - val_loss: 0.5854 - val_acc: 0.9650\n",
      "Epoch 8/50\n",
      "100/100 [==============================] - 17s 170ms/step - loss: 0.0465 - acc: 0.9937 - val_loss: 0.5718 - val_acc: 0.9700\n",
      "Epoch 9/50\n",
      "100/100 [==============================] - 17s 166ms/step - loss: 0.0245 - acc: 0.9956 - val_loss: 0.5740 - val_acc: 0.9675\n",
      "Epoch 10/50\n",
      "100/100 [==============================] - 16s 165ms/step - loss: 0.0110 - acc: 0.9962 - val_loss: 0.6270 - val_acc: 0.9675\n",
      "Epoch 11/50\n",
      "100/100 [==============================] - 17s 171ms/step - loss: 0.0129 - acc: 0.9969 - val_loss: 0.5752 - val_acc: 0.9650\n",
      "Epoch 12/50\n",
      "100/100 [==============================] - 17s 169ms/step - loss: 0.0106 - acc: 0.9969 - val_loss: 0.5525 - val_acc: 0.9700\n",
      "Epoch 13/50\n",
      "100/100 [==============================] - 17s 167ms/step - loss: 0.0167 - acc: 0.9969 - val_loss: 0.5704 - val_acc: 0.9750\n",
      "Epoch 14/50\n",
      "100/100 [==============================] - 17s 169ms/step - loss: 0.0067 - acc: 0.9981 - val_loss: 0.5963 - val_acc: 0.9725\n",
      "Epoch 15/50\n",
      "100/100 [==============================] - 17s 165ms/step - loss: 0.0190 - acc: 0.9962 - val_loss: 0.6503 - val_acc: 0.9625\n",
      "Epoch 16/50\n",
      "100/100 [==============================] - 16s 162ms/step - loss: 0.0299 - acc: 0.9931 - val_loss: 0.6430 - val_acc: 0.9675\n",
      "Epoch 17/50\n",
      "100/100 [==============================] - 17s 166ms/step - loss: 0.0163 - acc: 0.9956 - val_loss: 0.6319 - val_acc: 0.9650\n",
      "Epoch 18/50\n",
      "100/100 [==============================] - 17s 168ms/step - loss: 0.0128 - acc: 0.9962 - val_loss: 0.6421 - val_acc: 0.9675\n",
      "Epoch 19/50\n",
      "100/100 [==============================] - 18s 184ms/step - loss: 0.0072 - acc: 0.9981 - val_loss: 0.6219 - val_acc: 0.9625\n",
      "Epoch 20/50\n",
      "100/100 [==============================] - 21s 215ms/step - loss: 0.0054 - acc: 0.9975 - val_loss: 0.6152 - val_acc: 0.9650\n",
      "Epoch 21/50\n",
      "100/100 [==============================] - 21s 210ms/step - loss: 0.0072 - acc: 0.9981 - val_loss: 0.6003 - val_acc: 0.9625\n",
      "Epoch 22/50\n",
      "100/100 [==============================] - 17s 165ms/step - loss: 0.0183 - acc: 0.9956 - val_loss: 0.6083 - val_acc: 0.9650\n",
      "Epoch 23/50\n",
      "100/100 [==============================] - 15s 146ms/step - loss: 0.0112 - acc: 0.9956 - val_loss: 0.6027 - val_acc: 0.9625\n",
      "Epoch 24/50\n",
      "100/100 [==============================] - 14s 142ms/step - loss: 0.0050 - acc: 0.9981 - val_loss: 0.6252 - val_acc: 0.9650\n",
      "Epoch 25/50\n",
      "100/100 [==============================] - 15s 146ms/step - loss: 0.0186 - acc: 0.9950 - val_loss: 0.6213 - val_acc: 0.9700\n",
      "Epoch 26/50\n",
      "100/100 [==============================] - 15s 146ms/step - loss: 0.0038 - acc: 0.9981 - val_loss: 0.6364 - val_acc: 0.9700\n",
      "Epoch 27/50\n",
      "100/100 [==============================] - 14s 143ms/step - loss: 0.0022 - acc: 0.9994 - val_loss: 0.6368 - val_acc: 0.9700\n",
      "Epoch 28/50\n",
      "100/100 [==============================] - 14s 140ms/step - loss: 0.0022 - acc: 0.9987 - val_loss: 0.6472 - val_acc: 0.9675\n",
      "Epoch 29/50\n",
      "100/100 [==============================] - 14s 137ms/step - loss: 0.0012 - acc: 0.9994 - val_loss: 0.6453 - val_acc: 0.9675\n",
      "Epoch 30/50\n",
      "100/100 [==============================] - 14s 143ms/step - loss: 0.0071 - acc: 0.9969 - val_loss: 0.6415 - val_acc: 0.9725\n",
      "Epoch 31/50\n",
      "100/100 [==============================] - 14s 140ms/step - loss: 0.0127 - acc: 0.9969 - val_loss: 0.6366 - val_acc: 0.9750\n",
      "Epoch 32/50\n",
      "100/100 [==============================] - 17s 169ms/step - loss: 0.0018 - acc: 0.9981 - val_loss: 0.6328 - val_acc: 0.9700\n",
      "Epoch 33/50\n",
      "100/100 [==============================] - 16s 157ms/step - loss: 0.0142 - acc: 0.9969 - val_loss: 0.6420 - val_acc: 0.9725\n",
      "Epoch 34/50\n",
      "100/100 [==============================] - 15s 150ms/step - loss: 0.0082 - acc: 0.9987 - val_loss: 0.6250 - val_acc: 0.9725\n",
      "Epoch 35/50\n",
      "100/100 [==============================] - 15s 149ms/step - loss: 0.0042 - acc: 0.9987 - val_loss: 0.6052 - val_acc: 0.9725\n",
      "Epoch 36/50\n",
      "100/100 [==============================] - 15s 147ms/step - loss: 0.0069 - acc: 0.9975 - val_loss: 0.5866 - val_acc: 0.9675\n",
      "Epoch 37/50\n",
      "100/100 [==============================] - 16s 163ms/step - loss: 0.0243 - acc: 0.9950 - val_loss: 0.6090 - val_acc: 0.9725\n",
      "Epoch 38/50\n",
      "100/100 [==============================] - 14s 142ms/step - loss: 0.0047 - acc: 0.9969 - val_loss: 0.6229 - val_acc: 0.9750\n",
      "Epoch 39/50\n",
      "100/100 [==============================] - 14s 143ms/step - loss: 0.0064 - acc: 0.9981 - val_loss: 0.6160 - val_acc: 0.9725\n",
      "Epoch 40/50\n",
      "100/100 [==============================] - 14s 144ms/step - loss: 0.0073 - acc: 0.9987 - val_loss: 0.6226 - val_acc: 0.9750\n",
      "Epoch 41/50\n",
      "100/100 [==============================] - 15s 145ms/step - loss: 0.0096 - acc: 0.9981 - val_loss: 0.6202 - val_acc: 0.9750\n",
      "Epoch 42/50\n",
      "100/100 [==============================] - 15s 145ms/step - loss: 0.0055 - acc: 0.9987 - val_loss: 0.6295 - val_acc: 0.9725\n",
      "Epoch 43/50\n",
      "100/100 [==============================] - 14s 143ms/step - loss: 0.0064 - acc: 0.9975 - val_loss: 0.6040 - val_acc: 0.9725\n",
      "Epoch 44/50\n",
      "100/100 [==============================] - 14s 142ms/step - loss: 0.0056 - acc: 0.9969 - val_loss: 0.6095 - val_acc: 0.9725\n",
      "Epoch 45/50\n",
      "100/100 [==============================] - 14s 144ms/step - loss: 0.0066 - acc: 0.9981 - val_loss: 0.6035 - val_acc: 0.9675\n",
      "Epoch 46/50\n",
      "100/100 [==============================] - 14s 142ms/step - loss: 0.0112 - acc: 0.9962 - val_loss: 0.6396 - val_acc: 0.9700\n",
      "Epoch 47/50\n",
      "100/100 [==============================] - 14s 140ms/step - loss: 0.0016 - acc: 0.9994 - val_loss: 0.6520 - val_acc: 0.9675\n",
      "Epoch 48/50\n",
      "100/100 [==============================] - 14s 142ms/step - loss: 0.0039 - acc: 0.9987 - val_loss: 0.6344 - val_acc: 0.9725\n",
      "Epoch 49/50\n",
      "100/100 [==============================] - 14s 144ms/step - loss: 0.0107 - acc: 0.9969 - val_loss: 0.6280 - val_acc: 0.9675\n",
      "Epoch 50/50\n",
      "100/100 [==============================] - 15s 146ms/step - loss: 0.0156 - acc: 0.9969 - val_loss: 0.6256 - val_acc: 0.9725\n",
      "13/13 [==============================] - 1s 39ms/step - loss: 0.6256 - acc: 0.9725\n",
      "Val acc: 0.9725\n"
     ]
    }
   ],
   "source": [
    "stop = EarlyStopping(monitor=\"val_acc\", min_delta=0, patience=50, restore_best_weights=True)\n",
    "\n",
    "for b, p in [(32, 0.001), (16, 0.0001)]:\n",
    "    model.compile(Adam(p), \"categorical_crossentropy\", metrics=[\"acc\"])\n",
    "    model.fit(X_train, Y_train, batch_size=b, epochs=50, validation_data=(X_test, Y_test), callbacks=[stop])\n",
    "    print(f\"Val acc: {model.evaluate(X_test, Y_test)[1]:.04f}\")"
   ]
  },
  {
   "cell_type": "code",
   "execution_count": 10,
   "metadata": {},
   "outputs": [
    {
     "name": "stdout",
     "output_type": "stream",
     "text": [
      "13/13 [==============================] - 1s 45ms/step - loss: 0.6256 - acc: 0.9725\n"
     ]
    },
    {
     "data": {
      "text/plain": [
       "[0.6256440877914429, 0.9725000262260437]"
      ]
     },
     "execution_count": 10,
     "metadata": {},
     "output_type": "execute_result"
    }
   ],
   "source": [
    "model.evaluate(X_test, Y_test)"
   ]
  }
 ],
 "metadata": {
  "kernelspec": {
   "display_name": "tensorflow",
   "language": "python",
   "name": "python3"
  },
  "language_info": {
   "codemirror_mode": {
    "name": "ipython",
    "version": 3
   },
   "file_extension": ".py",
   "mimetype": "text/x-python",
   "name": "python",
   "nbconvert_exporter": "python",
   "pygments_lexer": "ipython3",
   "version": "3.9.13"
  },
  "orig_nbformat": 4,
  "vscode": {
   "interpreter": {
    "hash": "27586772524e2b341d4f050345a3d60cdbb290a2a4a301f57c519a3625dad78f"
   }
  }
 },
 "nbformat": 4,
 "nbformat_minor": 2
}
