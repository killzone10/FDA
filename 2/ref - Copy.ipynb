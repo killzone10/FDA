{
 "cells": [
  {
   "cell_type": "markdown",
   "source": [
    "# Task 1 - Apriori Algorithm for Recommender System (33 points)\n",
    "\n",
    "**Task Definition:** In this programming assignment, you are required to implement the Apriori algorithm and apply it to mine frequent itemsets for recommendation. You are required to implement the algorithm from scratch by using only native Python libraries and NumPy. For efficiency you will need to convert the items to ids and sort them.\n",
    "\n",
    "**Input:** The provided input file (`video_games.txt`) contains the favourite video games of 4096 users. Each line in the file corresponds to a user and represents a list of video games the user likes. An example:\n",
    "\n",
    "*Torchlight 2;Transistor*\n",
    "\n",
    "In the example above, the corresponding user likes the video games \"Torchlight 2\" and \"Transistor\".\n",
    "\n",
    "**Output:** You need to implement the Apriori algorithm and use it to mine frequent itemsets. Set the relative minimum support to 0.055 and run the algorithm on the 4096 lists of video games. In other words, you need to extract all the itemsets that have an absolute support larger or equal to 226."
   ],
   "metadata": {
    "collapsed": false
   }
  },
  {
   "cell_type": "code",
   "execution_count": null,
   "outputs": [],
   "source": [
    "# TODO: uncomment the packages you used, please do not import additional non-native packages\n",
    "# You may change the imports to the following format: from [package] import [class, method, etc.]\n",
    "\n",
    "# import collections\n",
    "# import itertools\n",
    "# import numpy as np"
   ],
   "metadata": {
    "collapsed": false
   }
  },
  {
   "cell_type": "markdown",
   "source": [
    "## 1.1 Loading the data and preprocessing (3 points)\n",
    "**Task:** Solve the tasks explained in the TODOs and comments."
   ],
   "metadata": {
    "collapsed": false
   }
  },
  {
   "cell_type": "code",
   "execution_count": null,
   "outputs": [],
   "source": [
    "# TODO: read the data from the input file /data/video_games.txt (1 points)\n"
   ],
   "metadata": {
    "collapsed": false
   }
  },
  {
   "cell_type": "code",
   "execution_count": null,
   "outputs": [],
   "source": [
    "# TODO: determine the unique items and create a dictionary that maps an item to its id using enumerate (1 points)\n",
    "unique_items = []\n",
    "id_to_item = unique_items\n",
    "\n",
    "item_to_id = {}"
   ],
   "metadata": {
    "collapsed": false
   }
  },
  {
   "cell_type": "code",
   "execution_count": null,
   "outputs": [],
   "source": [
    "# TODO: map the items of the records to ids and sort each record (1 points)\n",
    "mapped_records = []\n",
    "# In the following tasks use the mapped records to compute the frequent itemsets."
   ],
   "metadata": {
    "collapsed": false,
    "pycharm": {
     "is_executing": true
    }
   }
  },
  {
   "cell_type": "markdown",
   "source": [
    "## 1.2 Apriori algorithm (21 points)\n",
    "### A) Determine the frequent 1 itemsets (3 points)\n",
    "**Task:** Solve the tasks explained in the TODOs and comments."
   ],
   "metadata": {
    "collapsed": false
   }
  },
  {
   "cell_type": "code",
   "execution_count": null,
   "outputs": [],
   "source": [
    "# TODO: calculate the support of length-1 itemsets using Counter or defaultdict (1 points)\n",
    "l1_items = ..."
   ],
   "metadata": {
    "collapsed": false
   }
  },
  {
   "cell_type": "code",
   "execution_count": null,
   "outputs": [],
   "source": [
    "# TODO: filter out the frequent length-1 itemsets with their support (1 point)\n",
    "frequent_l1_items = {}\n",
    "\n",
    "# TODO: save the length-1 frequent items to frequent_items with their support (1 points)\n",
    "# Hint: Convert the itemsets to tuples or sets so that you can use them as keys in a dictionary.\n",
    "frequent_items = {}"
   ],
   "metadata": {
    "collapsed": false,
    "pycharm": {
     "is_executing": true
    }
   }
  },
  {
   "cell_type": "markdown",
   "source": [
    "### B) Determine the frequent n itemsets (15 points)\n",
    "**Task:** Solve the tasks explained in the TODOs and comments.\n"
   ],
   "metadata": {
    "collapsed": false
   }
  },
  {
   "cell_type": "code",
   "execution_count": null,
   "outputs": [],
   "source": [
    "# TODO: implement the apriori_gen algorithm based on the lecture slides\n",
    "def apriori_gen(itemsets):\n",
    "    # TODO: generate candidates (4 points)\n",
    "\n",
    "    # TODO: prune the candidates and return them (4 points)\n",
    "\n",
    "    return"
   ],
   "metadata": {
    "collapsed": false
   }
  },
  {
   "cell_type": "code",
   "execution_count": null,
   "outputs": [],
   "source": [
    "# TODO: implement an algorithm to calculate the support of the given itemset (2 points)\n",
    "# You do not need to implement a Hash Tree for calculating the supports.\n",
    "def calculate_support(itemset):\n",
    "    pass"
   ],
   "metadata": {
    "collapsed": false
   }
  },
  {
   "cell_type": "code",
   "execution_count": null,
   "outputs": [],
   "source": [
    "# TODO: set the initial candidates which will be used to generate the frequent length-2 itemsets (1 point)\n",
    "candidates = None\n",
    "\n",
    "# TODO: set the correct loop condition (1 point)\n",
    "while 0:\n",
    "    new_candidates = apriori_gen(candidates)\n",
    "    supports = map(calculate_support, new_candidates)\n",
    "\n",
    "    # TODO: filter out the frequent candidates (2 point)\n",
    "    frequent_new_candidates = {}\n",
    "\n",
    "    # TODO: add the frequent candidates to frequent_items (1 point)\n",
    "    pass\n",
    "\n",
    "    # replace candidates with the new ones\n",
    "    candidates = [itemset for itemset in frequent_candidates]"
   ],
   "metadata": {
    "collapsed": false
   }
  },
  {
   "cell_type": "markdown",
   "source": [
    "### C) Save your results (3 points)\n",
    "\n",
    "**Task:** Save all the frequent itemsets along with their absolute supports into a text file named “patterns.txt” and place it in the root of your zip file. Every line corresponds to exactly one frequent itemset and should be in the following format:\n",
    "\n",
    "*support:video_game_1;video_game_2;video_game_3;...*\n",
    "\n",
    "For example, suppose an itemset (Fallout 4;Genshin Impact) has an absolute support 520, then the line corresponding to this frequent itemset in `patterns.txt` should be:\n",
    "\n",
    "*520:Fallout 4;Genshin Impact*"
   ],
   "metadata": {
    "collapsed": false
   }
  },
  {
   "cell_type": "code",
   "execution_count": null,
   "outputs": [],
   "source": [],
   "metadata": {
    "collapsed": false
   }
  },
  {
   "cell_type": "markdown",
   "source": [
    "## 1.3 Recommendation (9 points)\n",
    "\n",
    "**Task:** Imagine you should recommend a video game to a user. You know that the user likes the video games \"Elden Ring\" and \"Scarlet Nexus\". Based on the result of the Apriori algorithm, implement an algorithm that gives a recommendation for this user by maximizing the confidence that the user will like the game. (6 points)\n",
    "\n",
    "**Report:** Explain your choice and report the confidence score for your recommendation. (3 points)\n"
   ],
   "metadata": {
    "collapsed": false
   }
  },
  {
   "cell_type": "code",
   "execution_count": null,
   "outputs": [],
   "source": [],
   "metadata": {
    "collapsed": false,
    "pycharm": {
     "is_executing": true
    }
   }
  }
 ],
 "metadata": {
  "kernelspec": {
   "display_name": "Python 3",
   "language": "python",
   "name": "python3"
  },
  "language_info": {
   "codemirror_mode": {
    "name": "ipython",
    "version": 2
   },
   "file_extension": ".py",
   "mimetype": "text/x-python",
   "name": "python",
   "nbconvert_exporter": "python",
   "pygments_lexer": "ipython2",
   "version": "2.7.6"
  }
 },
 "nbformat": 4,
 "nbformat_minor": 0
}
