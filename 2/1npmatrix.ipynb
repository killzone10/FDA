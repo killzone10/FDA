{
 "cells": [
  {
   "cell_type": "code",
   "execution_count": 4,
   "metadata": {},
   "outputs": [
    {
     "name": "stdout",
     "output_type": "stream",
     "text": [
      "XD)\n",
      "[[0 0 6 0]\n",
      " [0 4 0 0]\n",
      " [3 0 8 0]]\n"
     ]
    }
   ],
   "source": [
    "import numpy as np\n",
    "\n",
    "m = np.matrix([[0, 0, 6, 0],[0, 4,0,0], [3, 0, 8, 0]]) \n",
    "print(\"XD)\")\n",
    "print(m)"
   ]
  },
  {
   "cell_type": "code",
   "execution_count": 5,
   "metadata": {},
   "outputs": [
    {
     "data": {
      "text/plain": [
       "array([[ 9.        , -2.        , 10.5       ],\n",
       "       [-2.        ,  4.        , -3.66666667],\n",
       "       [10.5       , -3.66666667, 14.25      ]])"
      ]
     },
     "execution_count": 5,
     "metadata": {},
     "output_type": "execute_result"
    }
   ],
   "source": [
    "a = np.cov(m)\n",
    "a"
   ]
  },
  {
   "cell_type": "code",
   "execution_count": 3,
   "metadata": {},
   "outputs": [
    {
     "data": {
      "text/plain": [
       "array([[ 3.        , -2.        ,  5.        ,  0.        ],\n",
       "       [-2.        ,  5.33333333, -9.33333333,  0.        ],\n",
       "       [ 5.        , -9.33333333, 17.33333333,  0.        ],\n",
       "       [ 0.        ,  0.        ,  0.        ,  0.        ]])"
      ]
     },
     "execution_count": 3,
     "metadata": {},
     "output_type": "execute_result"
    }
   ],
   "source": [
    "m1 = np.matrix([[0, 0, 3],[0, 4,0], [6, 0, 8], [0,0,0]]) \n",
    "a1 = np.cov(m1)\n",
    "a1"
   ]
  },
  {
   "cell_type": "code",
   "execution_count": 6,
   "metadata": {},
   "outputs": [
    {
     "data": {
      "text/plain": [
       "matrix([[0, 0, 3],\n",
       "        [0, 4, 0],\n",
       "        [6, 0, 8],\n",
       "        [0, 0, 0]])"
      ]
     },
     "execution_count": 6,
     "metadata": {},
     "output_type": "execute_result"
    }
   ],
   "source": [
    "m1"
   ]
  },
  {
   "cell_type": "code",
   "execution_count": 37,
   "metadata": {},
   "outputs": [
    {
     "name": "stdout",
     "output_type": "stream",
     "text": [
      "[[ 0.56098153 -0.36389033  0.74356139]\n",
      " [ 0.3469329   0.91886705  0.1879386 ]\n",
      " [-0.7516231   0.15253582  0.64171297]]\n",
      "3\n",
      "[0.77095766 0.20906576 0.01997658]\n",
      "[8.63655911 4.49745624 1.3902281 ]\n",
      "[[-0.10974644 -1.85171526  1.05905916]\n",
      " [-4.52377264  3.0976712   0.0491352 ]\n",
      " [ 6.97394971  1.16957513 -0.24211461]\n",
      " [-2.34043063 -2.41553107 -0.86607975]]\n"
     ]
    }
   ],
   "source": [
    " from sklearn.decomposition import PCA\n",
    " X = np.array([[0, 0, 3],\n",
    "               [0, 6,0],\n",
    "                [6, 0, 8],\n",
    "                [0,0,0]])\n",
    "#  X = np.array([[0, 0, 6, 0],[0, 6,0,0], [3, 0, 8, 0]])\n",
    "\n",
    " pca = PCA(n_components=3)\n",
    " pca.fit(X)\n",
    "print(pca.components_)\n",
    "print(pca.n_components_)\n",
    "print(pca.explained_variance_ratio_)\n",
    "print(pca.singular_values_)\n",
    "B = pca.transform(X)\n",
    "print(B)\n"
   ]
  },
  {
   "cell_type": "code",
   "execution_count": 40,
   "metadata": {},
   "outputs": [
    {
     "name": "stdout",
     "output_type": "stream",
     "text": [
      "[24.8633844]\n",
      "[[-0.10974644]\n",
      " [-4.52377264]\n",
      " [ 6.97394971]\n",
      " [-2.34043063]]\n"
     ]
    },
    {
     "data": {
      "text/plain": [
       "8.409722222222223"
      ]
     },
     "execution_count": 40,
     "metadata": {},
     "output_type": "execute_result"
    }
   ],
   "source": [
    "from sklearn.decomposition import PCA\n",
    "X = np.array([[0, 0, 3],\n",
    "               [0, 6,0],\n",
    "                [6, 0, 8],\n",
    "                [0,0,0]])\n",
    "\n",
    "\n",
    "pca = PCA(n_components=1)\n",
    "pca.fit(X)\n",
    "B = pca.transform(X)\n",
    "print(pca.explained_variance_)\n",
    "\n",
    "print(B)\n",
    "X.var()\n",
    "pca.explained_variance"
   ]
  },
  {
   "cell_type": "code",
   "execution_count": 1,
   "metadata": {},
   "outputs": [
    {
     "name": "stdout",
     "output_type": "stream",
     "text": [
      "[[-0.21  0.88 -0.43]\n",
      " [ 0.62  0.46  0.64]\n",
      " [-0.76  0.13  0.64]\n",
      " [ 0.    0.    0.  ]]\n"
     ]
    }
   ],
   "source": [
    "import numpy as np\n",
    "\n",
    "X = np.array([[0,0,6,0],\n",
    "\n",
    "              [0,6,0,0],\n",
    "\n",
    "              [3,0,8,0]]).astype(np.float64)\n",
    "\n",
    "X = X - np.mean(X, axis=0)\n",
    "\n",
    "n,m = X.shape\n",
    "\n",
    "cov_np = np.cov(X, rowvar=False)\n",
    "\n",
    "eigenvalues, eigenvectors = np.linalg.eig(cov_np)\n",
    "\n",
    "print(np.round(eigenvectors[:,:3], 2))"
   ]
  }
 ],
 "metadata": {
  "kernelspec": {
   "display_name": "Python 3",
   "language": "python",
   "name": "python3"
  },
  "language_info": {
   "codemirror_mode": {
    "name": "ipython",
    "version": 3
   },
   "file_extension": ".py",
   "mimetype": "text/x-python",
   "name": "python",
   "nbconvert_exporter": "python",
   "pygments_lexer": "ipython3",
   "version": "3.9.13"
  },
  "orig_nbformat": 4
 },
 "nbformat": 4,
 "nbformat_minor": 2
}
